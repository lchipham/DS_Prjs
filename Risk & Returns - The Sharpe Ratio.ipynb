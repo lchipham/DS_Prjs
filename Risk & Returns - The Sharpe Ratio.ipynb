{
 "cells": [
  {
   "cell_type": "code",
   "execution_count": 1,
   "id": "e08a9d84-ff17-40e3-a68a-3b366c54fe1e",
   "metadata": {
    "dc": {
     "key": "3"
    },
    "deletable": false,
    "editable": false,
    "run_control": {
     "frozen": true
    },
    "tags": [
     "context"
    ]
   },
   "outputs": [
    {
     "ename": "SyntaxError",
     "evalue": "invalid syntax (3578370017.py, line 2)",
     "output_type": "error",
     "traceback": [
      "\u001b[0;36m  File \u001b[0;32m\"/tmp/ipykernel_203/3578370017.py\"\u001b[0;36m, line \u001b[0;32m2\u001b[0m\n\u001b[0;31m    <p>An investment may make sense if we expect it to return more money than it costs. But returns are only part of the story because they are risky - there may be a range of possible outcomes. How does one compare different investments that may deliver similar results on average, but exhibit different levels of risks?</p>\u001b[0m\n\u001b[0m    ^\u001b[0m\n\u001b[0;31mSyntaxError\u001b[0m\u001b[0;31m:\u001b[0m invalid syntax\n"
     ]
    }
   ],
  {
   "cell_type": "markdown",
   "id": "ec63153f-7da8-4be9-9244-2944689afe2a",
   "metadata": {},
   "source": [
    "#### The Sharpe ratio has been one of the most popular risk/return measures in finance, not least because it's so simple to use. It also helped that Professor Sharpe won a Nobel Memorial Prize in Economics in 1990 for his work on the capital asset pricing model (CAPM). The Sharpe ratio is usually calculated for a portfolio and uses the risk-free interest rate as benchmark. We will simplify our example and use stocks instead of a portfolio. We will also use a stock index as benchmark rather than the risk-free interest rate because both are readily available at daily frequencies and we do not have to get into converting interest rates from annual to daily frequency. In this project, we will calculate Sharpe Ratio for the stocks of the two tech giants Facebook and Amazon. As benchmark we'll use the S&P 500. When we use a stock index instead of the risk-free rate, the result is called the Information Ratio and is used to benchmark the return on active portfolio management because it tells you how much more return for a given unit of risk your portfolio manager earned relative to just putting your money into a low-cost index fund.\n"
   ]
  },
  {
   "cell_type": "code",
   "execution_count": 2,
   "id": "0749a81d",
   "metadata": {
    "dc": {
     "key": "3"
    },
    "tags": [
     "sample_code"
    ]
   },
   "outputs": [],
   "source": [
    "# Importing required modules\n",
    "import pandas as pd\n",
    "import numpy as np\n",
    "import matplotlib.pyplot as plt\n",
    "\n",
    "# Settings to produce nice plots in a Jupyter notebook\n",
    "plt.style.use('fivethirtyeight')\n",
    "%matplotlib inline\n",
    "\n",
    "# Reading in the data\n",
    "stock_data = pd.read_csv('datasets/stock_data.csv', parse_dates = ['Date'], index_col = 'Date').dropna()\n",
    "benchmark_data = pd.read_csv('datasets/benchmark_data.csv', parse_dates = ['Date'], index_col = 'Date').dropna()"
   ]
  },
  {
   "cell_type": "markdown",
   "id": "381d0377",
   "metadata": {
    "dc": {
     "key": "11"
    },
    "deletable": false,
    "editable": false,
    "run_control": {
     "frozen": true
    },
    "tags": [
     "context"
    ]
   },
   "source": [
    "## 2. A first glance at the data\n",
    "<p>Let's take a look the data to find out how many observations and variables we have at our disposal.</p>"
   ]
  },
  {
   "cell_type": "code",
   "execution_count": 3,
   "id": "3b5b5d5e",
   "metadata": {
    "dc": {
     "key": "11"
    },
    "tags": [
     "sample_code"
    ]
   },
   "outputs": [
    {
     "name": "stdout",
     "output_type": "stream",
     "text": [
      "Stocks\n",
      "\n",
      "<class 'pandas.core.frame.DataFrame'>\n",
      "DatetimeIndex: 252 entries, 2016-01-04 to 2016-12-30\n",
      "Data columns (total 2 columns):\n",
      " #   Column    Non-Null Count  Dtype  \n",
      "---  ------    --------------  -----  \n",
      " 0   Amazon    252 non-null    float64\n",
      " 1   Facebook  252 non-null    float64\n",
      "dtypes: float64(2)\n",
      "memory usage: 5.9 KB\n",
      "\n",
      "Benchmarks\n",
      "\n",
      "<class 'pandas.core.frame.DataFrame'>\n",
      "DatetimeIndex: 252 entries, 2016-01-04 to 2016-12-30\n",
      "Data columns (total 1 columns):\n",
      " #   Column   Non-Null Count  Dtype  \n",
      "---  ------   --------------  -----  \n",
      " 0   S&P 500  252 non-null    float64\n",
      "dtypes: float64(1)\n",
      "memory usage: 3.9 KB\n"
     ]
    }
   ],
   "source": [
    "# Display summary for stock_data\n",
    "print('Stocks\\n')\n",
    "stock_data.info()\n",
    "\n",
    "# Display summary for benchmark_data\n",
    "print('\\nBenchmarks\\n')\n",
    "benchmark_data.info()\n",
    "#benchmark_data.head()\n"
   ]
  },
  {
   "cell_type": "markdown",
   "id": "0e1aa99b",
   "metadata": {
    "dc": {
     "key": "18"
    },
    "deletable": false,
    "editable": false,
    "run_control": {
     "frozen": true
    },
    "tags": [
     "context"
    ]
   },
   "source": [
    "## 3. Plot & summarize daily prices for Amazon and Facebook\n",
    "<p>Before we compare an investment in either Facebook or Amazon with the index of the 500 largest companies in the US, let's visualize the data, so we better understand what we're dealing with.</p>"
   ]
  },
  {
   "cell_type": "code",
   "execution_count": 4,
   "id": "bc8391b0",
   "metadata": {
    "dc": {
     "key": "18"
    },
    "tags": [
     "sample_code"
    ]
   },
   "outputs": [
    {
     "data": {
      "application/com.datacamp.data-table.v1+json": {
       "is_truncated": false,
       "table": {
        "data": [
         {
          "Amazon": 252,
          "Facebook": 252,
          "index": "count"
         },
         {
          "Amazon": 699.5231348611,
          "Facebook": 117.0358730238,
          "index": "mean"
         },
         {
          "Amazon": 92.3623124534,
          "Facebook": 8.8998580173,
          "index": "std"
         },
         {
          "Amazon": 482.070007,
          "Facebook": 94.160004,
          "index": "min"
         },
         {
          "Amazon": 606.92999275,
          "Facebook": 112.20249925,
          "index": "25%"
         },
         {
          "Amazon": 727.875,
          "Facebook": 117.7649995,
          "index": "50%"
         },
         {
          "Amazon": 767.882492,
          "Facebook": 123.9025025,
          "index": "75%"
         },
         {
          "Amazon": 844.359985,
          "Facebook": 133.279999,
          "index": "max"
         }
        ],
        "schema": {
         "fields": [
          {
           "name": "index",
           "type": "string"
          },
          {
           "name": "Amazon",
           "type": "number"
          },
          {
           "name": "Facebook",
           "type": "number"
          }
         ],
         "pandas_version": "0.20.0",
         "primaryKey": [
          "index"
         ]
        }
       }
      },
      "text/html": [
       "<div>\n",
       "<style scoped>\n",
       "    .dataframe tbody tr th:only-of-type {\n",
       "        vertical-align: middle;\n",
       "    }\n",
       "\n",
       "    .dataframe tbody tr th {\n",
       "        vertical-align: top;\n",
       "    }\n",
       "\n",
       "    .dataframe thead th {\n",
       "        text-align: right;\n",
       "    }\n",
       "</style>\n",
       "<table border=\"1\" class=\"dataframe\">\n",
       "  <thead>\n",
       "    <tr style=\"text-align: right;\">\n",
       "      <th></th>\n",
       "      <th>Amazon</th>\n",
       "      <th>Facebook</th>\n",
       "    </tr>\n",
       "  </thead>\n",
       "  <tbody>\n",
       "    <tr>\n",
       "      <th>count</th>\n",
       "      <td>252.000000</td>\n",
       "      <td>252.000000</td>\n",
       "    </tr>\n",
       "    <tr>\n",
       "      <th>mean</th>\n",
       "      <td>699.523135</td>\n",
       "      <td>117.035873</td>\n",
       "    </tr>\n",
       "    <tr>\n",
       "      <th>std</th>\n",
       "      <td>92.362312</td>\n",
       "      <td>8.899858</td>\n",
       "    </tr>\n",
       "    <tr>\n",
       "      <th>min</th>\n",
       "      <td>482.070007</td>\n",
       "      <td>94.160004</td>\n",
       "    </tr>\n",
       "    <tr>\n",
       "      <th>25%</th>\n",
       "      <td>606.929993</td>\n",
       "      <td>112.202499</td>\n",
       "    </tr>\n",
       "    <tr>\n",
       "      <th>50%</th>\n",
       "      <td>727.875000</td>\n",
       "      <td>117.765000</td>\n",
       "    </tr>\n",
       "    <tr>\n",
       "      <th>75%</th>\n",
       "      <td>767.882492</td>\n",
       "      <td>123.902503</td>\n",
       "    </tr>\n",
       "    <tr>\n",
       "      <th>max</th>\n",
       "      <td>844.359985</td>\n",
       "      <td>133.279999</td>\n",
       "    </tr>\n",
       "  </tbody>\n",
       "</table>\n",
       "</div>"
      ],
      "text/plain": [
       "           Amazon    Facebook\n",
       "count  252.000000  252.000000\n",
       "mean   699.523135  117.035873\n",
       "std     92.362312    8.899858\n",
       "min    482.070007   94.160004\n",
       "25%    606.929993  112.202499\n",
       "50%    727.875000  117.765000\n",
       "75%    767.882492  123.902503\n",
       "max    844.359985  133.279999"
      ]
     },
     "execution_count": 4,
     "metadata": {},
     "output_type": "execute_result"
    },
    {
     "data": {
      "image/png": "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\n",
      "text/plain": [
       "<Figure size 432x288 with 2 Axes>"
      ]
     },
     "metadata": {
      "needs_background": "light"
     },
     "output_type": "display_data"
    }
   ],
   "source": [
    "# visualize the stock_data\n",
    "stock_data.plot(subplots = True, title = 'Stock Data')\n",
    "\n",
    "\n",
    "# summarize the stock_data\n",
    "stock_data.describe()\n"
   ]
  },
  {
   "cell_type": "markdown",
   "id": "de351b01",
   "metadata": {
    "dc": {
     "key": "25"
    },
    "deletable": false,
    "editable": false,
    "run_control": {
     "frozen": true
    },
    "tags": [
     "context"
    ]
   },
   "source": [
    "## 4. Visualize & summarize daily values for the S&P 500\n",
    "<p>Let's also take a closer look at the value of the S&amp;P 500, our benchmark.</p>"
   ]
  },
  {
   "cell_type": "code",
   "execution_count": 5,
   "id": "29167e9a",
   "metadata": {
    "dc": {
     "key": "25"
    },
    "tags": [
     "sample_code"
    ]
   },
   "outputs": [
    {
     "data": {
      "application/com.datacamp.data-table.v1+json": {
       "is_truncated": false,
       "table": {
        "data": [
         {
          "S&P 500": 252,
          "index": "count"
         },
         {
          "S&P 500": 2094.6513095238,
          "index": "mean"
         },
         {
          "S&P 500": 101.4276150911,
          "index": "std"
         },
         {
          "S&P 500": 1829.08,
          "index": "min"
         },
         {
          "S&P 500": 2047.06,
          "index": "25%"
         },
         {
          "S&P 500": 2104.105,
          "index": "50%"
         },
         {
          "S&P 500": 2169.075,
          "index": "75%"
         },
         {
          "S&P 500": 2271.72,
          "index": "max"
         }
        ],
        "schema": {
         "fields": [
          {
           "name": "index",
           "type": "string"
          },
          {
           "name": "S&P 500",
           "type": "number"
          }
         ],
         "pandas_version": "0.20.0",
         "primaryKey": [
          "index"
         ]
        }
       }
      },
      "text/html": [
       "<div>\n",
       "<style scoped>\n",
       "    .dataframe tbody tr th:only-of-type {\n",
       "        vertical-align: middle;\n",
       "    }\n",
       "\n",
       "    .dataframe tbody tr th {\n",
       "        vertical-align: top;\n",
       "    }\n",
       "\n",
       "    .dataframe thead th {\n",
       "        text-align: right;\n",
       "    }\n",
       "</style>\n",
       "<table border=\"1\" class=\"dataframe\">\n",
       "  <thead>\n",
       "    <tr style=\"text-align: right;\">\n",
       "      <th></th>\n",
       "      <th>S&amp;P 500</th>\n",
       "    </tr>\n",
       "  </thead>\n",
       "  <tbody>\n",
       "    <tr>\n",
       "      <th>count</th>\n",
       "      <td>252.000000</td>\n",
       "    </tr>\n",
       "    <tr>\n",
       "      <th>mean</th>\n",
       "      <td>2094.651310</td>\n",
       "    </tr>\n",
       "    <tr>\n",
       "      <th>std</th>\n",
       "      <td>101.427615</td>\n",
       "    </tr>\n",
       "    <tr>\n",
       "      <th>min</th>\n",
       "      <td>1829.080000</td>\n",
       "    </tr>\n",
       "    <tr>\n",
       "      <th>25%</th>\n",
       "      <td>2047.060000</td>\n",
       "    </tr>\n",
       "    <tr>\n",
       "      <th>50%</th>\n",
       "      <td>2104.105000</td>\n",
       "    </tr>\n",
       "    <tr>\n",
       "      <th>75%</th>\n",
       "      <td>2169.075000</td>\n",
       "    </tr>\n",
       "    <tr>\n",
       "      <th>max</th>\n",
       "      <td>2271.720000</td>\n",
       "    </tr>\n",
       "  </tbody>\n",
       "</table>\n",
       "</div>"
      ],
      "text/plain": [
       "           S&P 500\n",
       "count   252.000000\n",
       "mean   2094.651310\n",
       "std     101.427615\n",
       "min    1829.080000\n",
       "25%    2047.060000\n",
       "50%    2104.105000\n",
       "75%    2169.075000\n",
       "max    2271.720000"
      ]
     },
     "execution_count": 5,
     "metadata": {},
     "output_type": "execute_result"
    },
    {
     "data": {
      "image/png": "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\n",
      "text/plain": [
       "<Figure size 432x288 with 1 Axes>"
      ]
     },
     "metadata": {
      "needs_background": "light"
     },
     "output_type": "display_data"
    }
   ],
   "source": [
    "# plot the benchmark_data\n",
    "benchmark_data.plot(title = 'S&P 500')\n",
    "\n",
    "\n",
    "# summarize the benchmark_data\n",
    "benchmark_data.describe()\n"
   ]
  },
  {
   "cell_type": "markdown",
   "id": "d0f766ac",
   "metadata": {
    "dc": {
     "key": "32"
    },
    "deletable": false,
    "editable": false,
    "run_control": {
     "frozen": true
    },
    "tags": [
     "context"
    ]
   },
   "source": [
    "## 5. The inputs for the Sharpe Ratio: Starting with Daily Stock Returns\n",
    "<p>The Sharpe Ratio uses the difference in returns between the two investment opportunities under consideration.</p>\n",
    "<p>However, our data show the historical value of each investment, not the return. To calculate the return, we need to calculate the percentage change in value from one day to the next. We'll also take a look at the summary statistics because these will become our inputs as we calculate the Sharpe Ratio. Can you already guess the result?</p>"
   ]
  },
  {
   "cell_type": "code",
   "execution_count": 6,
   "id": "60a03f05",
   "metadata": {
    "dc": {
     "key": "32"
    },
    "tags": [
     "sample_code"
    ]
   },
   "outputs": [
    {
     "data": {
      "application/com.datacamp.data-table.v1+json": {
       "is_truncated": false,
       "table": {
        "data": [
         {
          "Amazon": 251,
          "Facebook": 251,
          "index": "count"
         },
         {
          "Amazon": 0.0008178637,
          "Facebook": 0.00062557,
          "index": "mean"
         },
         {
          "Amazon": 0.0183826871,
          "Facebook": 0.0178401449,
          "index": "std"
         },
         {
          "Amazon": -0.0760997526,
          "Facebook": -0.0581047888,
          "index": "min"
         },
         {
          "Amazon": -0.0072105282,
          "Facebook": -0.0072198456,
          "index": "25%"
         },
         {
          "Amazon": 0.0008566368,
          "Facebook": 0.0008789453,
          "index": "50%"
         },
         {
          "Amazon": 0.0092235571,
          "Facebook": 0.0081075231,
          "index": "75%"
         },
         {
          "Amazon": 0.0956644967,
          "Facebook": 0.1552144464,
          "index": "max"
         }
        ],
        "schema": {
         "fields": [
          {
           "name": "index",
           "type": "string"
          },
          {
           "name": "Amazon",
           "type": "number"
          },
          {
           "name": "Facebook",
           "type": "number"
          }
         ],
         "pandas_version": "0.20.0",
         "primaryKey": [
          "index"
         ]
        }
       }
      },
      "text/html": [
       "<div>\n",
       "<style scoped>\n",
       "    .dataframe tbody tr th:only-of-type {\n",
       "        vertical-align: middle;\n",
       "    }\n",
       "\n",
       "    .dataframe tbody tr th {\n",
       "        vertical-align: top;\n",
       "    }\n",
       "\n",
       "    .dataframe thead th {\n",
       "        text-align: right;\n",
       "    }\n",
       "</style>\n",
       "<table border=\"1\" class=\"dataframe\">\n",
       "  <thead>\n",
       "    <tr style=\"text-align: right;\">\n",
       "      <th></th>\n",
       "      <th>Amazon</th>\n",
       "      <th>Facebook</th>\n",
       "    </tr>\n",
       "  </thead>\n",
       "  <tbody>\n",
       "    <tr>\n",
       "      <th>count</th>\n",
       "      <td>251.000000</td>\n",
       "      <td>251.000000</td>\n",
       "    </tr>\n",
       "    <tr>\n",
       "      <th>mean</th>\n",
       "      <td>0.000818</td>\n",
       "      <td>0.000626</td>\n",
       "    </tr>\n",
       "    <tr>\n",
       "      <th>std</th>\n",
       "      <td>0.018383</td>\n",
       "      <td>0.017840</td>\n",
       "    </tr>\n",
       "    <tr>\n",
       "      <th>min</th>\n",
       "      <td>-0.076100</td>\n",
       "      <td>-0.058105</td>\n",
       "    </tr>\n",
       "    <tr>\n",
       "      <th>25%</th>\n",
       "      <td>-0.007211</td>\n",
       "      <td>-0.007220</td>\n",
       "    </tr>\n",
       "    <tr>\n",
       "      <th>50%</th>\n",
       "      <td>0.000857</td>\n",
       "      <td>0.000879</td>\n",
       "    </tr>\n",
       "    <tr>\n",
       "      <th>75%</th>\n",
       "      <td>0.009224</td>\n",
       "      <td>0.008108</td>\n",
       "    </tr>\n",
       "    <tr>\n",
       "      <th>max</th>\n",
       "      <td>0.095664</td>\n",
       "      <td>0.155214</td>\n",
       "    </tr>\n",
       "  </tbody>\n",
       "</table>\n",
       "</div>"
      ],
      "text/plain": [
       "           Amazon    Facebook\n",
       "count  251.000000  251.000000\n",
       "mean     0.000818    0.000626\n",
       "std      0.018383    0.017840\n",
       "min     -0.076100   -0.058105\n",
       "25%     -0.007211   -0.007220\n",
       "50%      0.000857    0.000879\n",
       "75%      0.009224    0.008108\n",
       "max      0.095664    0.155214"
      ]
     },
     "execution_count": 6,
     "metadata": {},
     "output_type": "execute_result"
    },
    {
     "data": {
      "image/png": "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\n",
      "text/plain": [
       "<Figure size 432x288 with 1 Axes>"
      ]
     },
     "metadata": {
      "needs_background": "light"
     },
     "output_type": "display_data"
    }
   ],
   "source": [
    "# calculate daily stock_data returns\n",
    "stock_returns = stock_data.pct_change()\n",
    "\n",
    "# plot the daily returns\n",
    "stock_returns.plot()\n",
    "\n",
    "\n",
    "# summarize the daily returns\n",
    "stock_returns.describe()\n"
   ]
  },
  {
   "cell_type": "markdown",
   "id": "67c0e623",
   "metadata": {
    "dc": {
     "key": "39"
    },
    "deletable": false,
    "editable": false,
    "run_control": {
     "frozen": true
    },
    "tags": [
     "context"
    ]
   },
   "source": [
    "## 6. Daily S&P 500 returns\n",
    "<p>For the S&amp;P 500, calculating daily returns works just the same way, we just need to make sure we select it as a <code>Series</code> using single brackets <code>[]</code> and not as a <code>DataFrame</code> to facilitate the calculations in the next step.</p>"
   ]
  },
  {
   "cell_type": "code",
   "execution_count": 7,
   "id": "4100dc3c",
   "metadata": {
    "dc": {
     "key": "39"
    },
    "tags": [
     "sample_code"
    ]
   },
   "outputs": [
    {
     "data": {
      "text/plain": [
       "count    251.000000\n",
       "mean       0.000458\n",
       "std        0.008205\n",
       "min       -0.035920\n",
       "25%       -0.002949\n",
       "50%        0.000205\n",
       "75%        0.004497\n",
       "max        0.024760\n",
       "Name: S&P 500, dtype: float64"
      ]
     },
     "execution_count": 7,
     "metadata": {},
     "output_type": "execute_result"
    },
    {
     "data": {
      "image/png": "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\n",
      "text/plain": [
       "<Figure size 432x288 with 1 Axes>"
      ]
     },
     "metadata": {
      "needs_background": "light"
     },
     "output_type": "display_data"
    }
   ],
   "source": [
    "# calculate daily benchmark_data returns\n",
    "# ... YOUR CODE FOR TASK 6 HERE ...\n",
    "sp_returns = benchmark_data['S&P 500'].pct_change()\n",
    "\n",
    "# plot the daily returns\n",
    "# ... YOUR CODE FOR TASK 6 HERE ...\n",
    "sp_returns.plot()\n",
    "\n",
    "# summarize the daily returns\n",
    "# ... YOUR CODE FOR TASK 6 HERE ...\n",
    "sp_returns.describe()"
   ]
  },
  {
   "cell_type": "markdown",
   "id": "8b697f4e",
   "metadata": {
    "dc": {
     "key": "46"
    },
    "deletable": false,
    "editable": false,
    "run_control": {
     "frozen": true
    },
    "tags": [
     "context"
    ]
   },
   "source": [
    "## 7. Calculating Excess Returns for Amazon and Facebook vs. S&P 500\n",
    "<p>Next, we need to calculate the relative performance of stocks vs. the S&amp;P 500 benchmark. This is calculated as the difference in returns between <code>stock_returns</code> and <code>sp_returns</code> for each day.</p>"
   ]
  },
  {
   "cell_type": "code",
   "execution_count": 8,
   "id": "7ed8d9a1",
   "metadata": {
    "dc": {
     "key": "46"
    },
    "tags": [
     "sample_code"
    ]
   },
   "outputs": [
    {
     "data": {
      "application/com.datacamp.data-table.v1+json": {
       "is_truncated": false,
       "table": {
        "data": [
         {
          "Amazon": 251,
          "Facebook": 251,
          "index": "count"
         },
         {
          "Amazon": 0.0003598961,
          "Facebook": 0.0001676025,
          "index": "mean"
         },
         {
          "Amazon": 0.0161260317,
          "Facebook": 0.015439099,
          "index": "std"
         },
         {
          "Amazon": -0.1008599673,
          "Facebook": -0.0519578204,
          "index": "min"
         },
         {
          "Amazon": -0.0062293902,
          "Facebook": -0.0056627038,
          "index": "25%"
         },
         {
          "Amazon": 0.000697543,
          "Facebook": -0.0004541113,
          "index": "50%"
         },
         {
          "Amazon": 0.0073511324,
          "Facebook": 0.0058139097,
          "index": "75%"
         },
         {
          "Amazon": 0.1007275805,
          "Facebook": 0.1496858875,
          "index": "max"
         }
        ],
        "schema": {
         "fields": [
          {
           "name": "index",
           "type": "string"
          },
          {
           "name": "Amazon",
           "type": "number"
          },
          {
           "name": "Facebook",
           "type": "number"
          }
         ],
         "pandas_version": "0.20.0",
         "primaryKey": [
          "index"
         ]
        }
       }
      },
      "text/html": [
       "<div>\n",
       "<style scoped>\n",
       "    .dataframe tbody tr th:only-of-type {\n",
       "        vertical-align: middle;\n",
       "    }\n",
       "\n",
       "    .dataframe tbody tr th {\n",
       "        vertical-align: top;\n",
       "    }\n",
       "\n",
       "    .dataframe thead th {\n",
       "        text-align: right;\n",
       "    }\n",
       "</style>\n",
       "<table border=\"1\" class=\"dataframe\">\n",
       "  <thead>\n",
       "    <tr style=\"text-align: right;\">\n",
       "      <th></th>\n",
       "      <th>Amazon</th>\n",
       "      <th>Facebook</th>\n",
       "    </tr>\n",
       "  </thead>\n",
       "  <tbody>\n",
       "    <tr>\n",
       "      <th>count</th>\n",
       "      <td>251.000000</td>\n",
       "      <td>251.000000</td>\n",
       "    </tr>\n",
       "    <tr>\n",
       "      <th>mean</th>\n",
       "      <td>0.000360</td>\n",
       "      <td>0.000168</td>\n",
       "    </tr>\n",
       "    <tr>\n",
       "      <th>std</th>\n",
       "      <td>0.016126</td>\n",
       "      <td>0.015439</td>\n",
       "    </tr>\n",
       "    <tr>\n",
       "      <th>min</th>\n",
       "      <td>-0.100860</td>\n",
       "      <td>-0.051958</td>\n",
       "    </tr>\n",
       "    <tr>\n",
       "      <th>25%</th>\n",
       "      <td>-0.006229</td>\n",
       "      <td>-0.005663</td>\n",
       "    </tr>\n",
       "    <tr>\n",
       "      <th>50%</th>\n",
       "      <td>0.000698</td>\n",
       "      <td>-0.000454</td>\n",
       "    </tr>\n",
       "    <tr>\n",
       "      <th>75%</th>\n",
       "      <td>0.007351</td>\n",
       "      <td>0.005814</td>\n",
       "    </tr>\n",
       "    <tr>\n",
       "      <th>max</th>\n",
       "      <td>0.100728</td>\n",
       "      <td>0.149686</td>\n",
       "    </tr>\n",
       "  </tbody>\n",
       "</table>\n",
       "</div>"
      ],
      "text/plain": [
       "           Amazon    Facebook\n",
       "count  251.000000  251.000000\n",
       "mean     0.000360    0.000168\n",
       "std      0.016126    0.015439\n",
       "min     -0.100860   -0.051958\n",
       "25%     -0.006229   -0.005663\n",
       "50%      0.000698   -0.000454\n",
       "75%      0.007351    0.005814\n",
       "max      0.100728    0.149686"
      ]
     },
     "execution_count": 8,
     "metadata": {},
     "output_type": "execute_result"
    },
    {
     "data": {
      "image/png": "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\n",
      "text/plain": [
       "<Figure size 432x288 with 1 Axes>"
      ]
     },
     "metadata": {
      "needs_background": "light"
     },
     "output_type": "display_data"
    }
   ],
   "source": [
    "# calculate the difference in daily returns\n",
    "# set the parameter axis=0 to align the dates for both time series\n",
    "excess_returns = stock_returns.sub(sp_returns, axis = 0)\n",
    "\n",
    "# plot the excess_returns\n",
    "excess_returns.plot()\n",
    "\n",
    "\n",
    "# summarize the excess_returns\n",
    "excess_returns.describe()\n"
   ]
  },
  {
   "cell_type": "markdown",
   "id": "93305ef5",
   "metadata": {
    "dc": {
     "key": "53"
    },
    "deletable": false,
    "editable": false,
    "run_control": {
     "frozen": true
    },
    "tags": [
     "context"
    ]
   },
   "source": [
    "## 8. The Sharpe Ratio, Step 1: The Average Difference in Daily Returns Stocks vs S&P 500\n",
    "<p>Now we can finally start computing the Sharpe Ratio. First we need to calculate the average of the <code>excess_returns</code>. This tells us how much more or less the investment yields per day compared to the benchmark.</p>"
   ]
  },
  {
   "cell_type": "code",
   "execution_count": 9,
   "id": "c5901af8",
   "metadata": {
    "dc": {
     "key": "53"
    },
    "tags": [
     "sample_code"
    ]
   },
   "outputs": [
    {
     "data": {
      "text/plain": [
       "<AxesSubplot:title={'center':'Mean of the Return Difference'}>"
      ]
     },
     "execution_count": 9,
     "metadata": {},
     "output_type": "execute_result"
    },
    {
     "data": {
      "image/png": "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\n",
      "text/plain": [
       "<Figure size 432x288 with 1 Axes>"
      ]
     },
     "metadata": {
      "needs_background": "light"
     },
     "output_type": "display_data"
    }
   ],
   "source": [
    "# calculate the mean of excess_returns \n",
    "avg_excess_return = excess_returns.mean()\n",
    "\n",
    "# plot avg_excess_returns\n",
    "avg_excess_return.plot.bar(title = 'Mean of the Return Difference')\n"
   ]
  },
  {
   "cell_type": "markdown",
   "id": "680b632c",
   "metadata": {
    "dc": {
     "key": "60"
    },
    "deletable": false,
    "editable": false,
    "run_control": {
     "frozen": true
    },
    "tags": [
     "context"
    ]
   },
   "source": [
    "## 9. The Sharpe Ratio, Step 2: Standard Deviation of the Return Difference\n",
    "<p>It looks like there was quite a bit of a difference between average daily returns for Amazon and Facebook.</p>\n",
    "<p>Next, we calculate the standard deviation of the <code>excess_returns</code>. This shows us the amount of risk an investment in the stocks implies as compared to an investment in the S&amp;P 500.</p>"
   ]
  },
  {
   "cell_type": "code",
   "execution_count": 10,
   "id": "c6f4dd19",
   "metadata": {
    "dc": {
     "key": "60"
    },
    "tags": [
     "sample_code"
    ]
   },
   "outputs": [
    {
     "data": {
      "text/plain": [
       "<AxesSubplot:title={'center':'Standard Deviation of the Return Difference'}>"
      ]
     },
     "execution_count": 10,
     "metadata": {},
     "output_type": "execute_result"
    },
    {
     "data": {
      "image/png": "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\n",
      "text/plain": [
       "<Figure size 432x288 with 1 Axes>"
      ]
     },
     "metadata": {
      "needs_background": "light"
     },
     "output_type": "display_data"
    }
   ],
   "source": [
    "# calculate the standard deviations\n",
    "sd_excess_return = excess_returns.std()\n",
    "\n",
    "# plot the standard deviations\n",
    "sd_excess_return.plot.bar(title = 'Standard Deviation of the Return Difference')\n"
   ]
  },
  {
   "cell_type": "markdown",
   "id": "935526bc",
   "metadata": {
    "dc": {
     "key": "67"
    },
    "deletable": false,
    "editable": false,
    "run_control": {
     "frozen": true
    },
    "tags": [
     "context"
    ]
   },
   "source": [
    "## 10. Putting it all together\n",
    "<p>Now we just need to compute the ratio of <code>avg_excess_returns</code> and <code>sd_excess_returns</code>. The result is now finally the <em>Sharpe ratio</em> and indicates how much more (or less) return the investment opportunity under consideration yields per unit of risk.</p>\n",
    "<p>The Sharpe Ratio is often <em>annualized</em> by multiplying it by the square root of the number of periods. We have used daily data as input, so we'll use the square root of the number of trading days (5 days, 52 weeks, minus a few holidays): √252</p>"
   ]
  },
  {
   "cell_type": "code",
   "execution_count": 11,
   "id": "4693b9b4",
   "metadata": {
    "dc": {
     "key": "67"
    },
    "tags": [
     "sample_code"
    ]
   },
   "outputs": [
    {
     "data": {
      "text/plain": [
       "Amazon      0.354283\n",
       "Facebook    0.172329\n",
       "dtype: float64"
      ]
     },
     "execution_count": 11,
     "metadata": {},
     "output_type": "execute_result"
    },
    {
     "data": {
      "image/png": "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\n",
      "text/plain": [
       "<Figure size 432x288 with 1 Axes>"
      ]
     },
     "metadata": {
      "needs_background": "light"
     },
     "output_type": "display_data"
    }
   ],
   "source": [
    "# calculate the daily sharpe ratio\n",
    "daily_sharpe_ratio = avg_excess_return.div(sd_excess_return)\n",
    "\n",
    "# annualize the sharpe ratio\n",
    "annual_factor = np.sqrt(252)\n",
    "annual_sharpe_ratio = daily_sharpe_ratio.mul(annual_factor)\n",
    "\n",
    "# plot the annualized sharpe ratio\n",
    "annual_sharpe_ratio.plot(title = 'Annualized Sharpe Ratio: Stocks vs S&P 500')\n",
    "annual_sharpe_ratio"
   ]
  },
  {
   "cell_type": "markdown",
   "id": "9dd3f918",
   "metadata": {
    "dc": {
     "key": "74"
    },
    "deletable": false,
    "editable": false,
    "run_control": {
     "frozen": true
    },
    "tags": [
     "context"
    ]
   },
   "source": [
    "## 11. Conclusion\n",
    "<p>Given the two Sharpe ratios, which investment should we go for? In 2016, Amazon had a Sharpe ratio twice as high as Facebook. This means that an investment in Amazon returned twice as much compared to the S&amp;P 500 for each unit of risk an investor would have assumed. In other words, in risk-adjusted terms, the investment in Amazon would have been more attractive.</p>\n",
    "<p>This difference was mostly driven by differences in return rather than risk between Amazon and Facebook. The risk of choosing Amazon over FB (as measured by the standard deviation) was only slightly higher so that the higher Sharpe ratio for Amazon ends up higher mainly due to the higher average daily returns for Amazon. </p>\n",
    "<p>When faced with investment alternatives that offer both different returns and risks, the Sharpe Ratio helps to make a decision by adjusting the returns by the differences in risk and allows an investor to compare investment opportunities on equal terms, that is, on an 'apples-to-apples' basis.</p>"
   ]
  },
  {
   "cell_type": "code",
   "execution_count": 12,
   "id": "97862f7d",
   "metadata": {
    "dc": {
     "key": "74"
    },
    "tags": [
     "sample_code"
    ]
   },
   "outputs": [
    {
     "name": "stdout",
     "output_type": "stream",
     "text": [
      "It makes sense to buy Amazon instead of Facebook due to its higher returns given the same amount of risk.\n"
     ]
    }
   ],
   "source": [
    "# Uncomment your choice.\n",
    "annual_sharpe_ratio['Amazon']\n",
    "annual_sharpe_ratio['Facebook']\n",
    "if annual_sharpe_ratio['Amazon'] > annual_sharpe_ratio['Facebook']:\n",
    "    print(\"It makes sense to buy Amazon instead of Facebook due to its higher returns given the same amount of risk.\")\n",
    "if annual_sharpe_ratio['Amazon'] < annual_sharpe_ratio['Facebook']:\n",
    "    print(\"It makes sense to buy Facebook instead of Amazon due to its higher returns given the same amount of risk.\")\n",
    "    "
   ]
  }
 ],
 "metadata": {
  "kernelspec": {
   "display_name": "Python 3 (ipykernel)",
   "language": "python",
   "name": "python3"
  },
  "language_info": {
   "codemirror_mode": {
    "name": "ipython",
    "version": 3
   },
   "file_extension": ".py",
   "mimetype": "text/x-python",
   "name": "python",
   "nbconvert_exporter": "python",
   "pygments_lexer": "ipython3",
   "version": "3.8.10"
  }
 },
 "nbformat": 4,
 "nbformat_minor": 5
}
